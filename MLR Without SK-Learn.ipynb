{
 "cells": [
  {
   "cell_type": "markdown",
   "id": "5de9eb8c",
   "metadata": {},
   "source": [
    "# Multivariable Linear Regression Without SK-Learn"
   ]
  },
  {
   "cell_type": "markdown",
   "id": "393d1ea3",
   "metadata": {},
   "source": [
    "Author: Md. Asif Hassan    \n",
    "ID: 19201029"
   ]
  },
  {
   "cell_type": "markdown",
   "id": "6b9faa7e",
   "metadata": {},
   "source": [
    "Dataset: https://github.com/huzaifsayed/Linear-Regression-Model-for-House-Price-Prediction/blob/master/USA_Housing.csv"
   ]
  },
  {
   "cell_type": "code",
   "execution_count": null,
   "id": "1c329437",
   "metadata": {},
   "outputs": [],
   "source": [
    "import numpy as np # Numpy Header\n",
    "import pandas as pd #Pandas Header \n",
    "import random #pseudo-random number generators"
   ]
  },
  {
   "cell_type": "code",
   "execution_count": null,
   "id": "15f5101c",
   "metadata": {},
   "outputs": [],
   "source": [
    "HouseDF = pd.read_csv('C://Users//Asif//Desktop//MULTIVARIABLE LINEAR REGRESSION//USA_Housing.csv')  #Importing Dataset\n",
    "HouseDF.head() #print first 5 Rows"
   ]
  },
  {
   "cell_type": "code",
   "execution_count": null,
   "id": "562e7e81",
   "metadata": {},
   "outputs": [],
   "source": [
    "m=len(HouseDF) #Length Of Dataset\n",
    "print(m)"
   ]
  },
  {
   "cell_type": "code",
   "execution_count": null,
   "id": "42247f85",
   "metadata": {},
   "outputs": [],
   "source": [
    "HouseDF.info() #print the dataset info"
   ]
  },
  {
   "cell_type": "code",
   "execution_count": null,
   "id": "654fa15b",
   "metadata": {},
   "outputs": [],
   "source": [
    "#Declearing Coloums Of Dataset \n",
    "x1=HouseDF[\"Avg. Area Income\"]\n",
    "x2=HouseDF[\"Avg. Area House Age\"]\n",
    "x3=HouseDF[\"Avg. Area Number of Rooms\"]\n",
    "x4=HouseDF[\"Avg. Area Number of Bedrooms\"]\n",
    "x5=HouseDF[\"Area Population\"]\n",
    "y= HouseDF[\"Price\"]\n",
    "print(x1.tail())\n",
    "print(x2.head())\n",
    "print(x3.head())\n",
    "print(y.head())\n",
    "len(x1)"
   ]
  },
  {
   "cell_type": "code",
   "execution_count": null,
   "id": "c868c2c8",
   "metadata": {},
   "outputs": [],
   "source": [
    "#Normalize Data , Pre Prosessing\n",
    "from sklearn import preprocessing\n",
    "n1=preprocessing.normalize([x1])\n",
    "n2=preprocessing.normalize([x2])\n",
    "n3=preprocessing.normalize([x3])\n",
    "n4=preprocessing.normalize([x4])\n",
    "n5=preprocessing.normalize([x5])\n",
    "print(n1,n2,n3,n4,n5)"
   ]
  },
  {
   "cell_type": "code",
   "execution_count": null,
   "id": "7fcfd191",
   "metadata": {},
   "outputs": [],
   "source": [
    "#Initialization\n",
    "x1=n1[0]\n",
    "x2=n2[0]\n",
    "x3=n3[0]\n",
    "x4=n4[0]\n",
    "x5=n5[0]\n",
    "print(x1,x2,x3,x4,x5)"
   ]
  },
  {
   "cell_type": "code",
   "execution_count": null,
   "id": "fab1a38f",
   "metadata": {},
   "outputs": [],
   "source": [
    "#Learning rate\n",
    "#Alpha = min(min(x1),min(x2),min(x3))/100\n",
    "alpha=0.1\n",
    "print(alpha)"
   ]
  },
  {
   "cell_type": "code",
   "execution_count": null,
   "id": "229c97c4",
   "metadata": {},
   "outputs": [],
   "source": [
    "J = 100\n",
    "cnt = 0 # Iteration Number\n",
    "theta = [1,1.5, 3, 8,9] \n",
    "cost_ls=[]\n",
    "\n",
    "for i in range(100):\n",
    "\n",
    "  print(\"Iteration number: \",cnt+1)\n",
    "  cnt = cnt+1\n",
    "  # Hypothesis Function\n",
    "  h = []\n",
    "  print(\"Hypothesis function value is: h0(x)=theta_0+theta_1 * x\")\n",
    "  for i2 in range(m):\n",
    "    temp = theta[0] + theta[1]*x1[i2] + theta[2]*x2[i2] + theta[3]*x3[i2] + theta[4]*x4[i2]\n",
    "    h.append(temp)\n",
    "\n",
    "  # Cost Function\n",
    "  error_sum = 0 \n",
    "  print(\"Cost function is: j(theta)=1/(2*m) * i=1_samtionSign_m (h_theta_(x)-y)**2\")\n",
    "\n",
    "  for i3 in range(m):\n",
    "    error_sum = error_sum + (h[i3] - y[i3])**2\n",
    "\n",
    "  J = (1/(2*m))*error_sum\n",
    "  if J == float(\"inf\") :\n",
    "    theta = [random.randint(-100,100),random.randint(-100,100), random.randint(-100,100),random.randint(-100,100), random.randint(-100,100)] \n",
    "    continue\n",
    "  print(\"\\nCost function is:\",J)\n",
    "  cost_ls.append(J)\n",
    "\n",
    "    # Gradient Descent\n",
    "  print(\"\\ngradient decent:\")\n",
    "  temp0 = 0\n",
    "  for i4 in range(m):\n",
    "    temp0 = temp0 + (h[i4] - y[i4])\n",
    "\n",
    "  theta[0] = theta[0] - (alpha/m)*temp0\n",
    "\n",
    "  temp1 = 0\n",
    "  for i5 in range(m):\n",
    "    temp1 = temp1 + (h[i5] - y[i5])*x1[i5]\n",
    "\n",
    "  theta[1] = theta[1] - (alpha/m)*temp1\n",
    "\n",
    "  temp1 = 0\n",
    "  for i6 in range(m):\n",
    "    temp1 = temp1 + (h[i5] - y[i5])*x2[i5]\n",
    "\n",
    "  theta[2] = theta[2] - (alpha/m)*temp1\n",
    "  \n",
    "  temp1 = 0\n",
    "  for i7 in range(m):\n",
    "    temp1 = temp1 + (h[i5] - y[i5])*x3[i5]\n",
    "\n",
    "  theta[3] = theta[3] - (alpha/m)*temp1\n",
    "\n",
    "  temp1 = 0\n",
    "  for i8 in range(m):\n",
    "    temp1 = temp1 + (h[i5] - y[i5])*x4[i5]\n",
    "\n",
    "  theta[4] = theta[4] - (alpha/m)*temp1\n",
    "\n",
    "  print(\"New parameter value is: \",theta)\n",
    "\n",
    "print(\"result coefficient is\",theta)\n"
   ]
  },
  {
   "cell_type": "code",
   "execution_count": null,
   "id": "356aef51",
   "metadata": {},
   "outputs": [],
   "source": [
    "import matplotlib.pyplot as plt\n",
    "\n",
    "x= [i for i in range(0, 100)]\n",
    "\n",
    "plt.plot(x, cost_ls)\n",
    " \n",
    "# Naming The X Axis\n",
    "plt.xlabel('Epochs')\n",
    "# Naming The Y Axis\n",
    "plt.ylabel('Cost Function')\n",
    " \n",
    "# Function To Show The Plot\n",
    "plt.show()"
   ]
  },
  {
   "cell_type": "code",
   "execution_count": null,
   "id": "be1f13d2",
   "metadata": {
    "scrolled": true
   },
   "outputs": [],
   "source": [
    "#Display Plot \n",
    "fig = plt.figure(figsize = (20,15))\n",
    "ax = fig.gca()\n",
    "HouseDF.hist(ax=ax)\n",
    "plt.show()"
   ]
  },
  {
   "cell_type": "code",
   "execution_count": null,
   "id": "ab2a8ec8",
   "metadata": {},
   "outputs": [],
   "source": [
    "#Seaborn Visualization Library\n",
    "import matplotlib.pyplot as plt\n",
    "import seaborn as sns"
   ]
  },
  {
   "cell_type": "code",
   "execution_count": null,
   "id": "80310502",
   "metadata": {},
   "outputs": [],
   "source": [
    "# Create The Default Pairplot\n",
    "#Printing Pairwise Plot\n",
    "sns.pairplot(HouseDF)\n",
    "plt.show()"
   ]
  },
  {
   "cell_type": "code",
   "execution_count": null,
   "id": "c98137b1",
   "metadata": {},
   "outputs": [],
   "source": [
    "#Ploting Heatmap\n",
    "plt.figure(figsize=(12,10))\n",
    "ax = sns.heatmap(HouseDF.corr())"
   ]
  },
  {
   "cell_type": "code",
   "execution_count": null,
   "id": "17f8ce9b",
   "metadata": {},
   "outputs": [],
   "source": []
  }
 ],
 "metadata": {
  "kernelspec": {
   "display_name": "Python 3 (ipykernel)",
   "language": "python",
   "name": "python3"
  },
  "language_info": {
   "codemirror_mode": {
    "name": "ipython",
    "version": 3
   },
   "file_extension": ".py",
   "mimetype": "text/x-python",
   "name": "python",
   "nbconvert_exporter": "python",
   "pygments_lexer": "ipython3",
   "version": "3.9.12"
  }
 },
 "nbformat": 4,
 "nbformat_minor": 5
}
